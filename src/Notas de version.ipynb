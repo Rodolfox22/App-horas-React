{
 "cells": [
  {
   "cell_type": "markdown",
   "metadata": {},
   "source": [
    "## Buenas prácticas:\n",
    "### Usa patch para:\n",
    "\n",
    "* Corrección de bugs\n",
    "\n",
    "* Cambios mínimos sin afectar funcionalidad\n",
    "\n",
    "### Usa minor cuando:\n",
    "\n",
    "* Añades features compatibles\n",
    "\n",
    "* Mejoras internas significativas\n",
    "\n",
    "### Usa major solo para:\n",
    "\n",
    "* Cambios que obligarían a usuarios a modificar su código\n",
    "\n",
    "* Rediseños importantes de arquitectura"
   ]
  },
  {
   "cell_type": "markdown",
   "metadata": {},
   "source": [
    "## Versionado semantico:\n",
    "v1.0.9 → release:patch → v1.0.10  \n",
    "v1.0.9 → release:minor → v1.1.0  \n",
    "v1.0.9 → release:major → v2.0.0\n",
    "\n",
    "### Comandos para actualizar la versión: \n",
    "npm run release:major  \n",
    "npm run release:minor  \n",
    "npm run release:patch\n"
   ]
  }
 ],
 "metadata": {
  "language_info": {
   "name": "python"
  }
 },
 "nbformat": 4,
 "nbformat_minor": 2
}
